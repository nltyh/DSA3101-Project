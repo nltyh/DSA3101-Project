{
 "cells": [
  {
   "cell_type": "markdown",
   "metadata": {},
   "source": [
    "# Synthetic Data Generation for A/B Test of Email Campaign Effectiveness on Customer Retention"
   ]
  },
  {
   "cell_type": "markdown",
   "metadata": {},
   "source": [
    "Since real A/B test data is not available, we generate synthetic data for both a control group (customers who did not receive the email) and a treatment group (customers who received the email).\n",
    "\n",
    "To simulate a realistic A/B test on customers of the ecommerce platform, we decided to use actual churn, emails opened and purchase rates from our current dataset to ensure the synthetic data reflects actual customer behavior. We also introduce random perturbations to the treatment group's churn and open rates, ensuring a diverse range of customer responses. These variations are designed to represent natural variability in how customers interact with the email campaign."
   ]
  },
  {
   "cell_type": "code",
   "execution_count": null,
   "metadata": {},
   "outputs": [
    {
     "name": "stdout",
     "output_type": "stream",
     "text": [
      "                                message_id  campaign_id message_type  \\\n",
      "0  1515915625489079625-11387-64244e6bd3873        11387         bulk   \n",
      "1  1515915625489079631-11387-64244e6bd38c2        11387         bulk   \n",
      "2  1515915625489079981-11387-64244e6bd3a36        11387         bulk   \n",
      "3  1515915625489079662-11387-64244e6bd38d9        11387         bulk   \n",
      "4  1515915625489079664-11387-64244e6bd38f5        11387         bulk   \n",
      "\n",
      "             client_id      channel   stream                 date  \\\n",
      "0  1515915625489079625  mobile_push  android  2023-03-29 00:00:00   \n",
      "1  1515915625489079631  mobile_push  desktop  2023-03-29 00:00:00   \n",
      "2  1515915625489079981  mobile_push  desktop  2023-03-29 00:00:00   \n",
      "3  1515915625489079662  mobile_push  android  2023-03-29 00:00:00   \n",
      "4  1515915625489079664  mobile_push  android  2023-03-29 00:00:00   \n",
      "\n",
      "               sent_at  is_opened  is_clicked  is_unsubscribed  is_complained  \\\n",
      "0  2023-03-29 14:51:38          1           0                0              0   \n",
      "1  2023-03-29 14:51:38          0           0                0              0   \n",
      "2  2023-03-29 14:51:39          0           0                0              0   \n",
      "3  2023-03-29 14:51:38          1           0                0              0   \n",
      "4  2023-03-29 14:51:38          1           0                0              0   \n",
      "\n",
      "   is_blocked  is_purchased  \n",
      "0           0             0  \n",
      "1           0             0  \n",
      "2           0             0  \n",
      "3           0             0  \n",
      "4           0             0  \n"
     ]
    }
   ],
   "source": [
    "import sqlite3\n",
    "import pandas as pd\n",
    "import numpy as np\n",
    "\n",
    "# Connect to the database \n",
    "conn = sqlite3.connect('Messages.db')\n",
    "\n",
    "# Create a cursor object to interact with the database\n",
    "cursor = conn.cursor()\n",
    "\n",
    "msg = pd.read_sql_query(\"SELECT * FROM messages;\", conn)\n",
    "\n",
    "# Display the DataFrame\n",
    "print(msg.head())"
   ]
  },
  {
   "cell_type": "code",
   "execution_count": null,
   "metadata": {},
   "outputs": [],
   "source": [
    "customers = pd.read_csv(\"Customers.csv\", index_col=0)"
   ]
  },
  {
   "cell_type": "code",
   "execution_count": null,
   "metadata": {},
   "outputs": [],
   "source": [
    "n_cust = customers.shape[0]\n",
    "\n",
    "overall_churn_rate = sum(customers['Churn']) * 100 / n_cust"
   ]
  },
  {
   "cell_type": "code",
   "execution_count": null,
   "metadata": {},
   "outputs": [],
   "source": [
    "opened_rate = msg['is_opened'].sum() / len(msg['is_opened'].dropna())        # Replace with actual email open rate (if already tracked)\n",
    "purchase_rate = msg['is_purchased'].sum() / len(msg['is_purchased'].dropna())     # Replace with actual purchase rate from your dataset\n",
    "\n",
    "n_customers = 5000\n",
    "\n",
    "# Set random seed for reproducibility\n",
    "np.random.seed(0)\n",
    "\n",
    "# Simulate Control Group (No Email)\n",
    "control_group = pd.DataFrame({\n",
    "    'customer_id': range(n_customers),\n",
    "    'group': 'Control',\n",
    "    'is_opened': np.zeros(n_customers, dtype=int),  # No email, so open rate is 0\n",
    "    'is_purchased': np.random.binomial(1, purchase_rate, n_customers),\n",
    "    'churned': np.random.binomial(1, overall_churn_rate/100, n_customers)\n",
    "})\n",
    "\n",
    "# Perturbation ranges (e.g., ±3%)\n",
    "churn_perturbations = np.random.uniform(-0.05, 0.05, n_customers)\n",
    "purchase_perturbations = np.random.uniform(0, 0.05, n_customers)\n",
    "\n",
    "# Adjusted rates for each customer in the Treatment group\n",
    "treatment_churn_rates = np.clip(overall_churn_rate/100 + churn_perturbations, 0, 1)\n",
    "treatment_purchase_rates = np.clip(purchase_rate + purchase_perturbations, 0, 1)\n",
    "\n",
    "\n",
    "# Simulate Treatment Group (Email Sent) with no assumed lift\n",
    "treatment_group = pd.DataFrame({\n",
    "    'customer_id': range(n_customers, 2 * n_customers),\n",
    "    'group': 'Treatment',\n",
    "    'is_opened': np.random.binomial(1, opened_rate, n_customers),\n",
    "    'is_purchased': np.random.binomial(1, treatment_purchase_rates),\n",
    "    'churned': np.random.binomial(1, treatment_churn_rates)\n",
    "})\n",
    "\n",
    "control_group.to_csv('campaign_control.csv')\n",
    "treatment_group.to_csv('campaigh_treatment.csv')"
   ]
  }
 ],
 "metadata": {
  "language_info": {
   "name": "python"
  }
 },
 "nbformat": 4,
 "nbformat_minor": 2
}
