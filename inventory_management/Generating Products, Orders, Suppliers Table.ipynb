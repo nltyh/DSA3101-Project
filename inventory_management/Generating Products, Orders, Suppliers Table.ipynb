{
 "cells": [
  {
   "cell_type": "code",
   "execution_count": 2,
   "metadata": {},
   "outputs": [],
   "source": [
    "import pandas as pd\n",
    "import numpy as np"
   ]
  },
  {
   "cell_type": "code",
   "execution_count": 3,
   "metadata": {},
   "outputs": [],
   "source": [
    "df = pd.read_csv(\"DataCoSupplyChainDataset.csv\", encoding_errors = 'ignore')\n",
    "amazon = pd.read_csv(\"amazon.csv\")\n",
    "clothing = pd.read_csv(\"clothing.csv\")"
   ]
  },
  {
   "cell_type": "markdown",
   "metadata": {},
   "source": [
    "Products Table"
   ]
  },
  {
   "cell_type": "code",
   "execution_count": 4,
   "metadata": {},
   "outputs": [],
   "source": [
    "amazon = amazon[['product_name', 'category', 'actual_price']]\n",
    "\n",
    "# converting prices from rupees to usd\n",
    "amazon['actual_price'] = amazon['actual_price'].astype(str).str.replace('₹', '')\n",
    "amazon['actual_price'] = amazon['actual_price'].str.replace(',', '')\n",
    "amazon['actual_price'] = pd.to_numeric(amazon['actual_price'])\n",
    "amazon['actual_price'] = round(amazon['actual_price']*0.012, 2)\n",
    "\n",
    "amazon['category'] = amazon['category'].str.split('|').str[0]\n",
    "\n",
    "# Remove categories that are not central to our analysis (We only want Home Appliances, Electronics, Clothing)\n",
    "remove_set = {\"MusicalInstruments\", \"Officeamazon\", \"Toys&Games\", \"Car&Motorbike\", \"Health&PersonalCare\", \"OfficeProducts\"}\n",
    "amazon = amazon[~amazon['category'].isin(remove_set)]\n",
    "\n",
    "# We will only have two main categories: Home appliances and Electronics\n",
    "amazon['category'] = amazon['category'].replace([\"Home&Kitchen\"], \"Home Appliances\")\n",
    "amazon['category'] = amazon['category'].replace([\"Computers&Accessories\"], \"Electronics\")\n",
    "amazon['category'] = amazon['category'].replace([\"HomeImprovement\"], \"Home Appliances\")\n",
    "\n",
    "amazon['category'] = amazon.category.astype('category')\n",
    "\n",
    "amazon.dropna()\n",
    "amazon.drop_duplicates()\n",
    "\n",
    "amazon.rename(columns = {'product_id': 'ProductID',\n",
    "                           'product_name': 'Product Name',\n",
    "                           'category': 'Category',\n",
    "                           'actual_price': 'Price'}, inplace=True)\n",
    "\n",
    "clothing = clothing[['name', 'actual_price', 'sub_category']]\n",
    "\n",
    "clothing.dropna()\n",
    "clothing.drop_duplicates()\n",
    "\n",
    "# converting prices from rupees to usd\n",
    "clothing['actual_price'] = clothing['actual_price'].astype(str).str.replace('₹', '')\n",
    "clothing['actual_price'] = clothing['actual_price'].str.replace(',', '')\n",
    "clothing[\"actual_price\"].replace(\"nan\", np.nan, inplace=True)\n",
    "\n",
    "# Drop rows where 'actual_price' is NaN\n",
    "clothing.dropna(subset=[\"actual_price\"], inplace=True)\n",
    "\n",
    "clothing['actual_price'] = pd.to_numeric(clothing['actual_price'])\n",
    "clothing['actual_price'] = round(clothing['actual_price']*0.012, 2)\n",
    "\n",
    "clothing.rename(columns = {'name': 'Product Name',\n",
    "                           'actual_price': 'Price',\n",
    "                           'sub_category': 'Category'}, inplace=True)\n",
    "\n",
    "# row bind the 2 dataframes together\n",
    "products = pd.concat([amazon, clothing], axis = 0, ignore_index = True)\n",
    "\n",
    "# use index as productIDs\n",
    "products['ProductID'] = products.index + 1\n",
    "products = products[['ProductID', 'Product Name', 'Category', 'Price']] # reorder columns\n",
    "\n",
    "products.to_csv(\"Products Table.csv\")"
   ]
  },
  {
   "cell_type": "markdown",
   "metadata": {},
   "source": [
    "Orders Table"
   ]
  },
  {
   "cell_type": "code",
   "execution_count": 5,
   "metadata": {},
   "outputs": [],
   "source": [
    "orders = df[['Order Id', 'order date (DateOrders)', 'shipping date (DateOrders)', 'Days for shipping (real)', 'Days for shipment (scheduled)', 'Late_delivery_risk', 'Shipping Mode', 'Order Item Discount Rate']]\n",
    "\n",
    "orders = orders.drop_duplicates()\n",
    "orders.isna().sum() # no missing values\n",
    "orders.rename(columns = {\"Order Id\": \"OrderID\",\n",
    "                         \"order date (DateOrders)\": \"Order Date\",\n",
    "                         \"shipping date (DateOrders)\": \"Shipping Date\",\n",
    "                         \"Days for shipping (real)\": \"Actual days for shipping\",\n",
    "                         \"Days for shipment (scheduled)\": \"Scheduled days for shipping\",\n",
    "                         \"Late_delivery_risk\": \"Late Delivery Risk\",\n",
    "                         \"Order Item Discount Rate\": \"Discount Percentage\"}, inplace = True)\n",
    "\n",
    "np.random.seed(42)\n",
    "orders[\"CustomerID\"] = np.random.randint(0, 100000, size = len(orders))\n",
    "orders[\"Returns\"] = np.random.choice([0, 1], size = len(orders), p = [0.9, 0.1])\n",
    "orders[\"ProductID\"] = np.random.choice(products['ProductID'], size = len(orders), replace=True)\n",
    "orders['Promotional Period'] = np.random.choice([0, 1], size = len(orders))\n",
    "\n",
    "orders = orders[['OrderID', 'ProductID', 'CustomerID', 'Order Date', 'Shipping Date', 'Actual days for shipping', 'Scheduled days for shipping', 'Late Delivery Risk', 'Discount Percentage', 'Returns', 'Promotional Period']]\n",
    "orders.reset_index(inplace = True, drop = True)\n",
    "orders.to_csv(\"Orders Table.csv\")"
   ]
  },
  {
   "cell_type": "markdown",
   "metadata": {},
   "source": [
    "Suppliers Table"
   ]
  },
  {
   "cell_type": "code",
   "execution_count": null,
   "metadata": {},
   "outputs": [],
   "source": [
    "suppliers = products[[\"ProductID\"]]\n",
    "suppliers[\"SupplierID\"] = np.random.randint(0, 25, size = len(suppliers))\n",
    "\n",
    "suppliers.to_csv(\"Suppliers Table.csv\")"
   ]
  }
 ],
 "metadata": {
  "kernelspec": {
   "display_name": "Python 3",
   "language": "python",
   "name": "python3"
  },
  "language_info": {
   "codemirror_mode": {
    "name": "ipython",
    "version": 3
   },
   "file_extension": ".py",
   "mimetype": "text/x-python",
   "name": "python",
   "nbconvert_exporter": "python",
   "pygments_lexer": "ipython3",
   "version": "3.10.6"
  }
 },
 "nbformat": 4,
 "nbformat_minor": 2
}
