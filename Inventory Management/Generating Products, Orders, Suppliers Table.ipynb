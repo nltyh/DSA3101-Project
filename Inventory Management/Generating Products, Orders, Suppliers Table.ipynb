{
 "cells": [
  {
   "cell_type": "code",
   "execution_count": 2,
   "metadata": {},
   "outputs": [],
   "source": [
    "import pandas as pd\n",
    "import numpy as np"
   ]
  },
  {
   "cell_type": "code",
   "execution_count": 3,
   "metadata": {},
   "outputs": [],
   "source": [
    "df = pd.read_csv(\"DataCoSupplyChainDataset.csv\", encoding_errors = 'ignore')"
   ]
  },
  {
   "cell_type": "markdown",
   "metadata": {},
   "source": [
    "Products Table"
   ]
  },
  {
   "cell_type": "code",
   "execution_count": 4,
   "metadata": {},
   "outputs": [],
   "source": [
    "products = df[['Product Card Id', 'Category Name', 'Product Name', 'Product Price']]\n",
    "products = products.drop_duplicates()\n",
    "products.isna().sum() # no missing values\n",
    "products.rename(columns = {\"Product Card Id\": \"ProductID\",\n",
    "                           \"Category Name\": \"Category\"}, inplace = True)\n",
    "\n",
    "# sorting all different categories into 3: Home Appliances, Electronics, Clothing\n",
    "categories_mapping = {\n",
    "    'Home Appliances': ['Garden'],\n",
    "    'Electronics': ['Electronics', 'Consumer Electronics', 'Cameras ', 'Computers', 'DVDs', 'CDs '],\n",
    "    'Clothing': [\"Women's Apparel\", \"Girls' Apparel\", \"Women's Clothing\", \"Men's Clothing\", \"Children's Clothing\", \"Gold Apparel\"]\n",
    "}\n",
    "\n",
    "def map_category(item, mapping_dict):\n",
    "    for category, keywords in mapping_dict.items():\n",
    "        for keyword in keywords:\n",
    "            if keyword.lower() in item.lower():\n",
    "                return category\n",
    "    return None  # return None if it doesn't match any category\n",
    "\n",
    "products['Category'] = products['Category'].apply(lambda x: map_category(x, categories_mapping))\n",
    "products = products[products['Category'].notna()] # removing categories that don't fall into any of the 3 categories\n",
    "\n",
    "products.reset_index(inplace = True, drop = True)\n",
    "products.to_csv(\"Product Table.csv\")"
   ]
  },
  {
   "cell_type": "markdown",
   "metadata": {},
   "source": [
    "Orders Table"
   ]
  },
  {
   "cell_type": "code",
   "execution_count": 5,
   "metadata": {},
   "outputs": [],
   "source": [
    "orders = df[['Order Id', 'Product Card Id', 'order date (DateOrders)', 'shipping date (DateOrders)', 'Days for shipping (real)', 'Days for shipment (scheduled)', 'Late_delivery_risk', 'Shipping Mode', 'Order Item Discount Rate']]\n",
    "\n",
    "orders = orders.drop_duplicates()\n",
    "orders.isna().sum() # no missing values\n",
    "orders.rename(columns = {\"Order Id\": \"OrderID\",\n",
    "                         \"Product Card Id\": \"ProductID\",\n",
    "                         \"order date (DateOrders)\": \"Order Date\",\n",
    "                         \"shipping date (DateOrders)\": \"Shipping Date\",\n",
    "                         \"Days for shipping (real)\": \"Actual days for shipping\",\n",
    "                         \"Days for shipment (scheduled)\": \"Scheduled days for shipping\",\n",
    "                         \"Late_delivery_risk\": \"Late Delivery Risk\",\n",
    "                         \"Order Item Discount Rate\": \"Discount Percentage\"}, inplace = True)\n",
    "\n",
    "np.random.seed(42)\n",
    "orders[\"CustomerID\"] = np.random.randint(0, 100000, size = len(orders))\n",
    "orders[\"Returns\"] = np.random.choice([0, 1], size = len(orders), p = [0.9, 0.1]) # 10% of products are returned\n",
    "\n",
    "productIDs = products['ProductID']\n",
    "productIDs.to_list()\n",
    "orders = orders[orders['ProductID'].isin(productIDs)] # removing orders for products that are not in any of the 3 categories\n",
    "\n",
    "orders.reset_index(inplace = True, drop = True)\n",
    "orders.to_csv(\"Orders Table.csv\")"
   ]
  },
  {
   "cell_type": "markdown",
   "metadata": {},
   "source": [
    "Suppliers Table"
   ]
  },
  {
   "cell_type": "code",
   "execution_count": null,
   "metadata": {},
   "outputs": [],
   "source": [
    "suppliers = products[[\"ProductID\"]]\n",
    "suppliers[\"SupplierID\"] = np.random.randint(0, 25, size = len(suppliers))\n",
    "\n",
    "suppliers.to_csv(\"Suppliers Table.csv\")"
   ]
  }
 ],
 "metadata": {
  "kernelspec": {
   "display_name": "Python 3",
   "language": "python",
   "name": "python3"
  },
  "language_info": {
   "codemirror_mode": {
    "name": "ipython",
    "version": 3
   },
   "file_extension": ".py",
   "mimetype": "text/x-python",
   "name": "python",
   "nbconvert_exporter": "python",
   "pygments_lexer": "ipython3",
   "version": "3.10.6"
  }
 },
 "nbformat": 4,
 "nbformat_minor": 2
}
