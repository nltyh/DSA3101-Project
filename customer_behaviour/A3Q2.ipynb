{
 "cells": [
  {
   "cell_type": "markdown",
   "metadata": {},
   "source": [
    "# What are the most effective marketing channels and campaigns? Analyze the impact of various promotional campaigns on sales."
   ]
  },
  {
   "cell_type": "code",
   "execution_count": null,
   "metadata": {},
   "outputs": [],
   "source": [
    "import pandas as pd\n",
    "import numpy as np\n",
    "import seaborn as sns\n",
    "import matplotlib.pyplot as plt\n",
    "import sqlite3\n",
    "from sklearn.model_selection import train_test_split\n",
    "from sklearn.ensemble import RandomForestClassifier\n",
    "from sklearn.metrics import accuracy_score\n",
    "import gdown"
   ]
  },
  {
   "cell_type": "code",
   "execution_count": null,
   "metadata": {},
   "outputs": [],
   "source": [
    "# Download the final_campaigns.csv file from Google Drive\n",
    "file_id_campaigns = '1GtTpo6aDmayZDTzaEbZSPLqvQ8riJN59'  # Google Drive file ID\n",
    "campaigns_url = f'https://drive.google.com/uc?id={file_id_campaigns}'\n",
    "output_campaigns = 'final_campaigns.csv'\n",
    "gdown.download(campaigns_url, output_campaigns, quiet=False)\n",
    "\n",
    "# Download the Messages.db file from Google Drive\n",
    "file_id_messages = '1XBSeL6yuW_IOgRnm2FNr0B9FSVxj0Llv'  # Google Drive file ID for messages.db\n",
    "messages_url = f'https://drive.google.com/uc?id={file_id_messages}'\n",
    "output_messages = 'Messages.db'\n",
    "gdown.download(messages_url, output_messages, quiet=False)\n",
    "\n",
    "campaigns = pd.read_csv(output_campaigns)\n",
    "\n",
    "conn = sqlite3.connect(output_messages) \n",
    "messages = pd.read_sql_query(\"SELECT * FROM messages\", conn)\n",
    "conn.close()"
   ]
  },
  {
   "cell_type": "markdown",
   "metadata": {},
   "source": [
    "## Merge campaigns and messages tables "
   ]
  },
  {
   "cell_type": "code",
   "execution_count": null,
   "metadata": {},
   "outputs": [],
   "source": [
    "merged_data = pd.merge(messages, campaigns, left_on='campaign_id', right_on='id')"
   ]
  },
  {
   "cell_type": "markdown",
   "metadata": {},
   "source": [
    "## Calculate number of messages and conversion rate per Campaign"
   ]
  },
  {
   "cell_type": "code",
   "execution_count": null,
   "metadata": {},
   "outputs": [],
   "source": [
    "# calculate the number of messages per campaign\n",
    "merged_data['total_count'] = merged_data.groupby('campaign_id')['is_purchased'].transform('count')\n",
    "\n",
    "# calculate the conversion rate for each message based on their campaign\n",
    "merged_data['conversion_rate'] = merged_data.groupby('campaign_id')['is_purchased'].transform('sum') / merged_data['total_count']"
   ]
  },
  {
   "cell_type": "code",
   "execution_count": null,
   "metadata": {},
   "outputs": [],
   "source": [
    "campaign_summary = merged_data.groupby('campaign_id').agg(\n",
    "    total_messages=('is_purchased', 'count'),\n",
    "    total_purchases=('is_purchased', 'sum')\n",
    ").reset_index()\n",
    "\n",
    "campaign_summary['conversion_rate'] = (campaign_summary['total_purchases'] / campaign_summary['total_messages']) * 100\n",
    "\n",
    "# sort by conversion rate to find the most effective campaigns\n",
    "most_effective_campaigns = campaign_summary.sort_values(by='conversion_rate', ascending=False)\n",
    "\n",
    "# sort by total purchases to find the campaigns driving the most sales\n",
    "most_purchases_campaigns = campaign_summary.sort_values(by='total_purchases', ascending=False)\n",
    "\n",
    "print(\"Most effective campaigns based on conversion rate:\", most_effective_campaigns)\n",
    "print(\"Campaigns with most purchases:\", most_purchases_campaigns)\n",
    "\n"
   ]
  },
  {
   "cell_type": "markdown",
   "metadata": {},
   "source": [
    "Campaigns leveraging precision-targeted approaches, such as campaign ID 8015, achieved the highest conversion rate despite delivering fewer messages. This suggests that by precisely targeting a smaller, more relevant audience, the campaign effectively engaged recipients and maximized conversion potential. This strategy highlights the efficacy of targeted marketing, delivering impactful results by focusing on quality interactions over quantity.\n",
    "\n",
    "Campaign 18223's high volume showcases successful broad reach strategies despite lower conversion rates. This approach underscores how achieving scale can be crucial for increasing total sales figures, demonstrating that a wide-reaching strategy can effectively complement targeted efforts to achieve comprehensive market impact."
   ]
  },
  {
   "cell_type": "markdown",
   "metadata": {},
   "source": [
    "## Time Feature Extraction and Random Forest Classifier\n"
   ]
  },
  {
   "cell_type": "code",
   "execution_count": null,
   "metadata": {},
   "outputs": [],
   "source": [
    "merged_data['sent_at'] = pd.to_datetime(merged_data['sent_at'], errors='coerce')\n",
    "\n",
    "merged_data['year'] = merged_data['sent_at'].dt.year\n",
    "merged_data['month'] = merged_data['sent_at'].dt.month\n",
    "merged_data['day_of_week'] = merged_data['sent_at'].dt.dayofweek\n",
    "merged_data['hour'] = merged_data['sent_at'].dt.hour\n",
    "merged_data['is_weekend'] = merged_data['sent_at'].dt.dayofweek >= 5\n",
    "\n",
    "features = [\n",
    "    'subject_length', 'subject_with_personalization', 'subject_with_deadline', 'subject_with_emoji',\n",
    "    'subject_with_bonuses', 'subject_with_discount', 'subject_with_saleout',\n",
    "    'month', 'day_of_week', 'hour', 'is_weekend'\n",
    "]\n",
    "\n",
    "\n",
    "# prepare the data for modeling\n",
    "X = merged_data[features]\n",
    "y = merged_data['is_purchased']\n",
    "\n",
    "# split the data\n",
    "X_train, X_test, y_train, y_test = train_test_split(X, y, test_size=0.3, random_state=42)\n",
    "\n",
    "# initialise and train the Random Forest Classifier\n",
    "rf_model = RandomForestClassifier(n_estimators=100, random_state=42)\n",
    "rf_model.fit(X_train, y_train)\n",
    "\n",
    "# predict and evaluate the model\n",
    "y_pred = rf_model.predict(X_test)\n",
    "accuracy = accuracy_score(y_test, y_pred)\n",
    "print(f\"Accuracy: {accuracy}\")"
   ]
  },
  {
   "cell_type": "markdown",
   "metadata": {},
   "source": [
    "The model achieved an accuracy of 99.97%, indicating high prediction success. This high accuracy suggests potential class imbalance, as the model might predominantly predict the majority class. Further evaluation with precision and recall metrics may be required to ensure balanced performance."
   ]
  },
  {
   "cell_type": "markdown",
   "metadata": {},
   "source": [
    "## Visualizing Feature Importances for Purchase Prediction"
   ]
  },
  {
   "cell_type": "code",
   "execution_count": null,
   "metadata": {},
   "outputs": [],
   "source": [
    "importances = rf_model.feature_importances_\n",
    "feature_importances = pd.DataFrame(importances, index=X.columns, columns=['Importance']).sort_values(by='Importance', ascending=False)\n",
    "\n",
    "# plot feature importances\n",
    "plt.figure(figsize=(12, 8))\n",
    "sns.barplot(x=feature_importances['Importance'], y=feature_importances.index)\n",
    "plt.title('Feature Importances for Purchase Prediction')\n",
    "plt.xlabel('Importance')\n",
    "plt.ylabel('Feature')\n",
    "plt.show()\n",
    "\n",
    "print(\"Feature Importances:\", feature_importances)\n"
   ]
  },
  {
   "cell_type": "markdown",
   "metadata": {},
   "source": [
    "The \"hour\" of extracted from `sent_at` column emerges as the most critical feature, followed by \"month\" and \"day_of_week\". This indicates that specific sending times substantially enhances purchase probability. "
   ]
  },
  {
   "cell_type": "markdown",
   "metadata": {},
   "source": [
    "## Analyzing Average Purchase Rate by Hour"
   ]
  },
  {
   "cell_type": "code",
   "execution_count": null,
   "metadata": {},
   "outputs": [],
   "source": [
    "hourly_performance = merged_data.groupby('hour')['is_purchased'].mean().reset_index()\n",
    "plt.figure(figsize=(10, 6))\n",
    "sns.lineplot(x='hour', y='is_purchased', data=hourly_performance, marker='o')\n",
    "plt.title('Average Purchase Rate by Hour')\n",
    "plt.xlabel('Hour of Day')\n",
    "plt.ylabel('Purchase Rate')\n",
    "plt.xticks(range(24))\n",
    "plt.grid(True)\n",
    "plt.show()\n"
   ]
  },
  {
   "cell_type": "markdown",
   "metadata": {},
   "source": [
    "We identified peak engagement hours at 4AM and 12PM, which suggest the optimal times for message delivery. These hours likely correspond with early risers and lunchtime breaks, when individuals are more available to engage with their devices. "
   ]
  },
  {
   "cell_type": "markdown",
   "metadata": {},
   "source": [
    "## Analyzing Average Purchase Rate by Month"
   ]
  },
  {
   "cell_type": "code",
   "execution_count": null,
   "metadata": {},
   "outputs": [],
   "source": [
    "monthly_performance = merged_data.groupby('month')['is_purchased'].mean().reset_index()\n",
    "plt.figure(figsize=(10, 6))\n",
    "sns.barplot(x='month', y='is_purchased', data=monthly_performance)\n",
    "plt.title('Average Purchase Rate by Month')\n",
    "plt.xlabel('Month')\n",
    "plt.ylabel('Purchase Rate')\n",
    "plt.grid(True)\n",
    "plt.show()\n"
   ]
  },
  {
   "cell_type": "markdown",
   "metadata": {},
   "source": [
    "We identified peak engagement to be in February and June. The February peak may align with New Year purchases and celebrations such as Valentine's Day. The June peak may be attributed to Mid-Year Sales and an increase in activities related to summer vacations."
   ]
  },
  {
   "cell_type": "markdown",
   "metadata": {},
   "source": [
    "## Conclusion:\n",
    "\n",
    "Our analysis of conversion rates and purchase volumes demonstrates the effectiveness of combining precision-targeted and large-scale tactics. By optimizing timing and content strategy, we can achieve higher conversions and sales volume. This dual approach leverages detailed temporal insights and feature evaluations to enhance marketing effectiveness, optimize resource allocation, and improve campaign design."
   ]
  }
 ],
 "metadata": {
  "kernelspec": {
   "display_name": "Python 3",
   "language": "python",
   "name": "python3"
  },
  "language_info": {
   "codemirror_mode": {
    "name": "ipython",
    "version": 3
   },
   "file_extension": ".py",
   "mimetype": "text/x-python",
   "name": "python",
   "nbconvert_exporter": "python",
   "pygments_lexer": "ipython3",
   "version": "3.10.6"
  }
 },
 "nbformat": 4,
 "nbformat_minor": 2
}
