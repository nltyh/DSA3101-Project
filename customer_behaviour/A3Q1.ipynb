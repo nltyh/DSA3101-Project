{
 "cells": [
  {
   "cell_type": "markdown",
   "metadata": {},
   "source": [
    "# What are the most effective marketing channels and campaigns? Evaluate the ROI of different marketing channels.\n"
   ]
  },
  {
   "cell_type": "code",
   "execution_count": 13,
   "metadata": {},
   "outputs": [],
   "source": [
    "import pandas as pd\n",
    "import numpy as np\n",
    "import matplotlib.pyplot as plt\n",
    "import seaborn as sns\n",
    "import gdown"
   ]
  },
  {
   "cell_type": "code",
   "execution_count": 14,
   "metadata": {},
   "outputs": [
    {
     "name": "stderr",
     "output_type": "stream",
     "text": [
      "Downloading...\n",
      "From: https://drive.google.com/uc?id=1GtTpo6aDmayZDTzaEbZSPLqvQ8riJN59\n",
      "To: /Users/yilin/Documents/DSA3101/DSA3101-Project/Customer Behaviour/final_campaigns.csv\n",
      "100%|██████████| 9.44k/9.44k [00:00<00:00, 11.5MB/s]\n"
     ]
    }
   ],
   "source": [
    "file_id = '1GtTpo6aDmayZDTzaEbZSPLqvQ8riJN59' \n",
    "url = f'https://drive.google.com/uc?id={file_id}'\n",
    "output = 'final_campaigns.csv'\n",
    "gdown.download(url, output, quiet=False)\n",
    "\n",
    "df = pd.read_csv(output)"
   ]
  },
  {
   "cell_type": "markdown",
   "metadata": {},
   "source": [
    "## Calculating Total Cost of each Channel "
   ]
  },
  {
   "cell_type": "code",
   "execution_count": 15,
   "metadata": {},
   "outputs": [],
   "source": [
    "def calculate_channel_cost(row):\n",
    "    # calculate number of customers who purchased\n",
    "    num_purchased = row['percentage_purchased'] / 100 * row['total_count']\n",
    "    \n",
    "    # calculate channel cost\n",
    "    if row['channel'] == 'mobile_push':\n",
    "        channel_cost = (row['total_count'] * 0.012) + 9  # cost per recipient + flat fee\n",
    "    elif row['channel'] == 'email':\n",
    "        if row['total_count'] <= 20000:\n",
    "            channel_cost = 9  # flat fee for total_count <= 20,000\n",
    "        else:\n",
    "            channel_cost = (row['total_count'] / 1000) * 2 + 9  # cost per 1000 + flat fee\n",
    "    elif row['channel'] == 'sms':\n",
    "        channel_cost = (row['total_count'] * 0.0079) + 9  # cost per recipient + flat fee\n",
    "    elif row['channel'] == 'multichannel':\n",
    "        channel_cost = (row['total_count'] * 0.0219) + 9  # combined cost per recipient + flat fee\n",
    "    \n",
    "    # calculate total cost (product costs use only the purchasers)\n",
    "    product_costs = row['product_cost'] * num_purchased\n",
    "    total_cost = product_costs + channel_cost\n",
    "    return total_cost, product_costs, channel_cost"
   ]
  },
  {
   "cell_type": "code",
   "execution_count": 16,
   "metadata": {},
   "outputs": [
    {
     "name": "stdout",
     "output_type": "stream",
     "text": [
      "Channel performance evaluation:\n",
      "                   revenue    total_cost        roi\n",
      "channel                                            \n",
      "email         1.437243e+08  8.665810e+07  65.852072\n",
      "mobile_push   6.814761e+07  4.299531e+07  58.500090\n",
      "multichannel  7.388150e+00  1.368425e+01 -46.009829\n"
     ]
    }
   ],
   "source": [
    "# calculate cost and revenue for each campaign\n",
    "df[['total_cost', 'product_costs', 'channel_cost']] = df.apply(lambda row: pd.Series(calculate_channel_cost(row)), axis=1)\n",
    "\n",
    "# calculate revenue and ROI for each campaign\n",
    "df['revenue'] = (df['percentage_purchased'] / 100) * df['total_count'] * df['product_price']\n",
    "df['roi'] = (df['revenue'] - df['total_cost']) / df['total_cost'] * 100\n",
    "\n",
    "\n",
    "# evaluate the most effective marketing channel\n",
    "channel_performance = df.groupby('channel').agg({'revenue': 'sum', 'total_cost': 'sum'})\n",
    "channel_performance['roi'] = ((channel_performance['revenue'] - channel_performance['total_cost']) / channel_performance['total_cost']) * 100\n",
    "\n",
    "print(\"Channel performance evaluation:\")\n",
    "print(channel_performance.sort_values(by='roi', ascending=False))\n",
    "\n"
   ]
  },
  {
   "cell_type": "markdown",
   "metadata": {},
   "source": [
    "The Email channel exhibits the highest ROI at 65.85%, underscoring its efficiency and profitability.\n",
    "With an ROI of 58.50%, the Mobile Push channel also demonstrates strong performance.\n",
    "The Multichannel channel presents a negative ROI of -46.01%, but it's important to note that this is derived from a singular data point in the dataset."
   ]
  },
  {
   "cell_type": "markdown",
   "metadata": {},
   "source": [
    "## Graph of ROI by Channel "
   ]
  },
  {
   "cell_type": "code",
   "execution_count": 17,
   "metadata": {},
   "outputs": [
    {
     "data": {
      "image/png": "[encoded data removed]",
      "text/plain": [
       "<Figure size 1000x600 with 1 Axes>"
      ]
     },
     "metadata": {},
     "output_type": "display_data"
    }
   ],
   "source": [
    "# plotting the ROI by Channel\n",
    "plt.figure(figsize=(10, 6))\n",
    "sns.barplot(x=channel_performance.index, y=channel_performance['roi'], palette='viridis')\n",
    "plt.title('ROI by Marketing Channel')\n",
    "plt.xlabel('Channel')\n",
    "plt.ylabel('ROI (%)')\n",
    "plt.axhline(0, color='grey', linestyle='--')\n",
    "plt.xticks(rotation=45)\n",
    "plt.tight_layout()\n",
    "plt.show()\n"
   ]
  },
  {
   "cell_type": "markdown",
   "metadata": {},
   "source": [
    "## ROI Performance of Subject Features"
   ]
  },
  {
   "cell_type": "code",
   "execution_count": 18,
   "metadata": {},
   "outputs": [
    {
     "name": "stdout",
     "output_type": "stream",
     "text": [
      "Personalization Feature Performance:\n",
      "                                   revenue    total_cost        roi\n",
      "channel      personalization                                       \n",
      "email        0                1.437242e+08  8.665806e+07  65.852103\n",
      "mobile_push  0                6.007311e+07  3.785696e+07  58.684466\n",
      "             1                8.074498e+06  5.138355e+06  57.141691\n",
      "email        1                3.295544e+01  3.591070e+01  -8.229461\n",
      "multichannel 0                7.388150e+00  1.368425e+01 -46.009829\n",
      "Deadline Feature Performance:\n",
      "                            revenue    total_cost        roi\n",
      "channel      deadline                                       \n",
      "email        1         4.957659e+07  2.873705e+07  72.518035\n",
      "             0         9.414767e+07  5.792105e+07  62.544810\n",
      "mobile_push  0         6.814761e+07  4.299531e+07  58.500090\n",
      "multichannel 0         7.388150e+00  1.368425e+01 -46.009829\n",
      "Emoji Feature Performance:\n",
      "                         revenue    total_cost        roi\n",
      "channel      emoji                                       \n",
      "email        1      1.437243e+08  8.665810e+07  65.852072\n",
      "mobile_push  1      6.814758e+07  4.299525e+07  58.500251\n",
      "multichannel 1      7.388150e+00  1.368425e+01 -46.009829\n",
      "mobile_push  0      2.853200e+01  6.187120e+01 -53.884845\n",
      "Bonuses Feature Performance:\n",
      "                           revenue    total_cost        roi\n",
      "channel      bonuses                                       \n",
      "mobile_push  1        2.137587e+05  1.274221e+05  67.756383\n",
      "email        0        1.437243e+08  8.665810e+07  65.852072\n",
      "mobile_push  0        6.793385e+07  4.286789e+07  58.472576\n",
      "multichannel 0        7.388150e+00  1.368425e+01 -46.009829\n",
      "Discount Feature Performance:\n",
      "                            revenue    total_cost        roi\n",
      "channel      discount                                       \n",
      "email        1         8.191946e+03  4.414792e+03  85.556793\n",
      "             0         1.437161e+08  8.665368e+07  65.851068\n",
      "mobile_push  0         5.707829e+07  3.578284e+07  59.513039\n",
      "             1         1.106932e+07  7.212475e+06  53.474602\n",
      "multichannel 0         7.388150e+00  1.368425e+01 -46.009829\n",
      "Saleout Feature Performance:\n",
      "                           revenue    total_cost        roi\n",
      "channel      saleout                                       \n",
      "email        1        1.835524e+07  1.033573e+07  77.590207\n",
      "mobile_push  1        4.966540e+06  2.831705e+06  75.390451\n",
      "email        0        1.253690e+08  7.632237e+07  64.262471\n",
      "mobile_push  0        6.318107e+07  4.016361e+07  57.309248\n",
      "multichannel 0        7.388150e+00  1.368425e+01 -46.009829\n"
     ]
    }
   ],
   "source": [
    "# create binary columns for subject features\n",
    "df['personalization'] = df['subject_with_personalization'].apply(lambda x: 1 if x else 0)\n",
    "df['deadline'] = df['subject_with_deadline'].apply(lambda x: 1 if x else 0)\n",
    "df['emoji'] = df['subject_with_emoji'].apply(lambda x: 1 if x else 0)\n",
    "df['bonuses'] = df['subject_with_bonuses'].apply(lambda x: 1 if x else 0)\n",
    "df['discount'] = df['subject_with_discount'].apply(lambda x: 1 if x else 0)\n",
    "df['saleout'] = df['subject_with_saleout'].apply(lambda x: 1 if x else 0)\n",
    "\n",
    "# calculate ROI for each feature group within channels\n",
    "subject_features = ['personalization', 'deadline', 'emoji', 'bonuses', 'discount', 'saleout']\n",
    "\n",
    "for feature in subject_features:\n",
    "    feature_performance = df.groupby(['channel', feature]).agg({'revenue': 'sum', 'total_cost': 'sum'})\n",
    "    feature_performance['roi'] = ((feature_performance['revenue'] - feature_performance['total_cost']) / feature_performance['total_cost']) * 100\n",
    "    \n",
    "    print(f\"{feature.capitalize()} Feature Performance:\")\n",
    "    print(feature_performance.sort_values(by='roi', ascending=False))\n"
   ]
  },
  {
   "cell_type": "markdown",
   "metadata": {},
   "source": [
    "Key features such as \"saleout\" and \"discount\" have been instrumental in elevating engagement and conversion rates across channels. These features introduce a sense of urgency, trigger quicker consumer decision-making, and add tangible value to the customer proposition, thus increasing attention and interaction. Their strategic deployment can significantly bolster marketing effectiveness by aligning offer timing and content with consumer expectations."
   ]
  },
  {
   "cell_type": "markdown",
   "metadata": {},
   "source": [
    "## Conclusion:\n",
    "\n",
    "The analysis highlights the primacy of the Email channel as the most effective in generating ROI, followed closely by Mobile Push. Both channels demonstrate substantial efficacy, driven by strategic feature inclusion. Meanwhile, the multichannel strategy, due to its singular data point, requires further exploration and refinement. Focusing on and optimizing feature use within these channels can amplify their effectiveness, promoting higher ROI and strategic market positioning."
   ]
  }
 ],
 "metadata": {
  "kernelspec": {
   "display_name": "Python 3",
   "language": "python",
   "name": "python3"
  },
  "language_info": {
   "codemirror_mode": {
    "name": "ipython",
    "version": 3
   },
   "file_extension": ".py",
   "mimetype": "text/x-python",
   "name": "python",
   "nbconvert_exporter": "python",
   "pygments_lexer": "ipython3",
   "version": "3.10.6"
  }
 },
 "nbformat": 4,
 "nbformat_minor": 2
}
